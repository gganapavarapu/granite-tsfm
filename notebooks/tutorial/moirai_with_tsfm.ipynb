{
 "cells": [
  {
   "cell_type": "code",
   "execution_count": null,
   "id": "9152b8be-db16-4dc4-8f3a-208c213b2be0",
   "metadata": {},
   "outputs": [],
   "source": [
    "# https://huggingface.co/Salesforce/moirai-1.0-R-small\n",
    "import torch\n",
    "import matplotlib.pyplot as plt\n",
    "import pandas as pd\n",
    "from gluonts.dataset.pandas import PandasDataset\n",
    "from gluonts.dataset.split import split\n",
    "\n",
    "from uni2ts.eval_util.plot import plot_single\n",
    "from uni2ts.model.moirai import MoiraiForecast, MoiraiModule\n",
    "\n",
    "\n",
    "SIZE = \"small\"  # model size: choose from {'small', 'base', 'large'}\n",
    "PDT = 20  # prediction length: any positive integer\n",
    "CTX = 200  # context length: any positive integer\n",
    "PSZ = \"auto\"  # patch size: choose from {\"auto\", 8, 16, 32, 64, 128}\n",
    "BSZ = 32  # batch size: any positive integer\n",
    "TEST = 100  # test set length: any positive integer\n",
    "\n",
    "# Read data into pandas DataFrame\n",
    "url = (\n",
    "    \"https://gist.githubusercontent.com/rsnirwan/c8c8654a98350fadd229b00167174ec4\"\n",
    "    \"/raw/a42101c7786d4bc7695228a0f2c8cea41340e18f/ts_wide.csv\"\n",
    ")\n",
    "df = pd.read_csv(url, index_col=0, parse_dates=True)\n",
    "\n",
    "# Convert into GluonTS dataset\n",
    "ds = PandasDataset(dict(df))\n",
    "\n",
    "# Split into train/test set\n",
    "train, test_template = split(\n",
    "    ds, offset=-TEST\n",
    ")  # assign last TEST time steps as test set\n",
    "\n",
    "# Construct rolling window evaluation\n",
    "test_data = test_template.generate_instances(\n",
    "    prediction_length=PDT,  # number of time steps for each prediction\n",
    "    windows=TEST // PDT,  # number of windows in rolling window evaluation\n",
    "    distance=PDT,  # number of time steps between each window - distance=PDT for non-overlapping windows\n",
    ")\n",
    "\n",
    "# Prepare pre-trained model by downloading model weights from huggingface hub\n",
    "model = MoiraiForecast(\n",
    "    module=MoiraiModule.from_pretrained(f\"Salesforce/moirai-1.0-R-{SIZE}\"),\n",
    "    prediction_length=PDT,\n",
    "    context_length=CTX,\n",
    "    patch_size=PSZ,\n",
    "    num_samples=100,\n",
    "    target_dim=1,\n",
    "    feat_dynamic_real_dim=ds.num_feat_dynamic_real,\n",
    "    past_feat_dynamic_real_dim=ds.num_past_feat_dynamic_real,\n",
    ")\n",
    "\n",
    "predictor = model.create_predictor(batch_size=BSZ)\n",
    "forecasts = predictor.predict(test_data.input)\n",
    "\n",
    "input_it = iter(test_data.input)\n",
    "label_it = iter(test_data.label)\n",
    "forecast_it = iter(forecasts)\n",
    "\n",
    "inp = next(input_it)\n",
    "label = next(label_it)\n",
    "forecast = next(forecast_it)\n",
    "\n",
    "plot_single(\n",
    "    inp, \n",
    "    label, \n",
    "    forecast, \n",
    "    context_length=200,\n",
    "    name=\"pred\",\n",
    "    show_label=True,\n",
    ")\n",
    "plt.show()\n"
   ]
  },
  {
   "cell_type": "code",
   "execution_count": null,
   "id": "bf44b7a6-c932-478c-9ff3-6886b07e4370",
   "metadata": {},
   "outputs": [],
   "source": []
  },
  {
   "cell_type": "code",
   "execution_count": null,
   "id": "691c17d7-bf7c-499e-9621-b63683d40a63",
   "metadata": {},
   "outputs": [],
   "source": [
    "import pandas as pd\n",
    "import matplotlib.pyplot as plt\n",
    "\n",
    "from tsfm_public import TimeSeriesForecastingPipeline\n",
    "from tsfm_public.toolkit.visualization import plot_predictions\n",
    "from uni2ts.model.moirai import MoiraiForecast, MoiraiModule"
   ]
  },
  {
   "cell_type": "code",
   "execution_count": null,
   "id": "8e6dc54d-b5c7-4ff7-90d8-ad6f2c85c464",
   "metadata": {},
   "outputs": [],
   "source": [
    "DATA_FILE_PATH = \"energy_data/energy_dataset.csv\""
   ]
  },
  {
   "cell_type": "code",
   "execution_count": null,
   "id": "c149cc70-b1fa-4140-9166-dee3474eb851",
   "metadata": {},
   "outputs": [],
   "source": [
    "timestamp_column = \"time\"\n",
    "target_columns = [\"total load actual\"]\n",
    "context_length = 512\n",
    "prediction_length=96 # new param\n",
    "batch_size=16 # new param \n"
   ]
  },
  {
   "cell_type": "code",
   "execution_count": null,
   "id": "b579b5b1-931b-4598-8335-fa686241bc15",
   "metadata": {},
   "outputs": [],
   "source": [
    "# Read in the data from the downloaded file.\n",
    "input_df = pd.read_csv(\n",
    "  DATA_FILE_PATH,\n",
    "  parse_dates=[timestamp_column], # Parse the timestamp values as dates. \n",
    ")\n",
    "\n",
    "# Fill NA/NaN values by propagating the last valid value.\n",
    "input_df = input_df.ffill()\n",
    "\n",
    "# Only use the last `context_length` rows for prediction.\n",
    "input_df = input_df.iloc[-context_length:,]\n",
    "\n",
    "# Show the last few rows of the dataset.\n",
    "input_df.tail()"
   ]
  },
  {
   "cell_type": "code",
   "execution_count": null,
   "id": "eff452ba-74ca-4951-8233-cee5a5da38a8",
   "metadata": {},
   "outputs": [],
   "source": [
    "input_df.shape"
   ]
  },
  {
   "cell_type": "code",
   "execution_count": null,
   "id": "63060687-a701-4d5a-98ef-6179902c5718",
   "metadata": {},
   "outputs": [],
   "source": [
    "fig, axs = plt.subplots(len(target_columns), 1, figsize=(10, 2 * len(target_columns)), squeeze=False)\n",
    "for ax, target_column in zip(axs, target_columns):\n",
    "    ax[0].plot(input_df[timestamp_column], input_df[target_column])"
   ]
  },
  {
   "cell_type": "code",
   "execution_count": null,
   "id": "12d56873-4b69-4bb1-b1f7-ed69250d3691",
   "metadata": {},
   "outputs": [],
   "source": [
    "zeroshot_model = MoiraiModule.from_pretrained(f\"Salesforce/moirai-1.1-R-small\")"
   ]
  },
  {
   "cell_type": "code",
   "execution_count": null,
   "id": "aa83d777-8131-4cef-9ebf-59406dc47eba",
   "metadata": {},
   "outputs": [],
   "source": [
    "dir(zeroshot_model)"
   ]
  },
  {
   "cell_type": "code",
   "execution_count": null,
   "id": "9317cde6-79bf-4efd-b48a-af8bdf7fa116",
   "metadata": {},
   "outputs": [],
   "source": [
    "pipeline = TimeSeriesForecastingPipeline(\n",
    "    zeroshot_model,\n",
    "    timestamp_column=timestamp_column,\n",
    "    id_columns=[],\n",
    "    target_columns=target_columns,\n",
    "    explode_forecasts=True,\n",
    "    freq=\"h\",\n",
    "    device=\"cpu\", # Specify your local GPU or CPU.\n",
    ")\n",
    "# AttributeError: 'MoiraiModule' object has no attribute 'config'"
   ]
  },
  {
   "cell_type": "code",
   "execution_count": null,
   "id": "c0b4a723-867d-424e-aca9-ee836110bb50",
   "metadata": {},
   "outputs": [],
   "source": [
    "zeroshot_forecast = pipeline(input_df)\n",
    "zeroshot_forecast.tail()"
   ]
  },
  {
   "cell_type": "code",
   "execution_count": null,
   "id": "d2bbfa5c-c399-4ac5-afbb-af80870a3a71",
   "metadata": {},
   "outputs": [],
   "source": [
    "# Plot the historical data and predicted series.\n",
    "plot_predictions(\n",
    "    input_df=input_df,\n",
    "    exploded_predictions_df=zeroshot_forecast,\n",
    "    freq=\"h\",\n",
    "    timestamp_column=timestamp_column,\n",
    "    channel=target_column,\n",
    "    indices=[-1],\n",
    "    num_plots=1,\n",
    ")"
   ]
  }
 ],
 "metadata": {
  "kernelspec": {
   "display_name": "Python 3 (ipykernel)",
   "language": "python",
   "name": "python3"
  },
  "language_info": {
   "codemirror_mode": {
    "name": "ipython",
    "version": 3
   },
   "file_extension": ".py",
   "mimetype": "text/x-python",
   "name": "python",
   "nbconvert_exporter": "python",
   "pygments_lexer": "ipython3",
   "version": "3.11.8"
  }
 },
 "nbformat": 4,
 "nbformat_minor": 5
}
